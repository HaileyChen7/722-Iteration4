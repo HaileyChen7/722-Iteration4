{
 "cells": [
  {
   "cell_type": "code",
   "execution_count": 54,
   "id": "6383ce9c",
   "metadata": {},
   "outputs": [],
   "source": [
    "import findspark\n",
    "findspark.init('/home/ubuntu/spark-3.2.1-bin-hadoop2.7')\n",
    "import pyspark\n",
    "from pyspark.sql import SparkSession\n",
    "spark = SparkSession.builder.appName('SalaryPrediction').getOrCreate()"
   ]
  },
  {
   "cell_type": "code",
   "execution_count": 55,
   "id": "6e7a359d",
   "metadata": {},
   "outputs": [],
   "source": [
    "df = spark.read.csv('Datasets/salary1.csv', inferSchema=True, header=True)\n",
    "df2 = spark.read.csv('Datasets/salary2.csv', inferSchema=True, header=True)\n",
    "df = df.union(df2)"
   ]
  },
  {
   "cell_type": "code",
   "execution_count": 56,
   "id": "00925548",
   "metadata": {},
   "outputs": [
    {
     "name": "stdout",
     "output_type": "stream",
     "text": [
      "root\n",
      " |-- age: integer (nullable = true)\n",
      " |-- workclass: string (nullable = true)\n",
      " |-- fnlwgt: integer (nullable = true)\n",
      " |-- education: string (nullable = true)\n",
      " |-- education-num: integer (nullable = true)\n",
      " |-- marital-status: string (nullable = true)\n",
      " |-- occupation: string (nullable = true)\n",
      " |-- relationship: string (nullable = true)\n",
      " |-- race: string (nullable = true)\n",
      " |-- sex: string (nullable = true)\n",
      " |-- capital-gain: integer (nullable = true)\n",
      " |-- capital-loss: integer (nullable = true)\n",
      " |-- hours-per-week: integer (nullable = true)\n",
      " |-- native-country: string (nullable = true)\n",
      " |-- income: string (nullable = true)\n",
      "\n"
     ]
    },
    {
     "data": {
      "text/plain": [
       "48842"
      ]
     },
     "execution_count": 56,
     "metadata": {},
     "output_type": "execute_result"
    }
   ],
   "source": [
    "df.printSchema()\n",
    "df.count()"
   ]
  },
  {
   "cell_type": "code",
   "execution_count": 57,
   "id": "b293491e",
   "metadata": {},
   "outputs": [
    {
     "data": {
      "image/png": "[encoded data removed]",
      "text/plain": [
       "<Figure size 432x288 with 1 Axes>"
      ]
     },
     "metadata": {
      "needs_background": "light"
     },
     "output_type": "display_data"
    },
    {
     "name": "stdout",
     "output_type": "stream",
     "text": [
      "<=50K: 37155\n",
      ">50K: 11687\n"
     ]
    }
   ],
   "source": [
    "import numpy as np\n",
    "import matplotlib.pyplot as plt\n",
    "%matplotlib inline\n",
    "incomeArr = np.array(df.select('income').collect())\n",
    "plt.hist(incomeArr)\n",
    "plt.show()\n",
    "print(\"<=50K: \"+str(df.filter(df['income'] == '<=50K').count()))\n",
    "print(\">50K: \"+str(df.filter(df['income'] == '>50K').count()))"
   ]
  },
  {
   "cell_type": "code",
   "execution_count": 58,
   "id": "eda53294",
   "metadata": {},
   "outputs": [
    {
     "name": "stdout",
     "output_type": "stream",
     "text": [
      "+---+\n",
      "|age|\n",
      "+---+\n",
      "| 90|\n",
      "+---+\n",
      "only showing top 1 row\n",
      "\n",
      "+---+\n",
      "|age|\n",
      "+---+\n",
      "| 17|\n",
      "+---+\n",
      "only showing top 1 row\n",
      "\n",
      "+------+---------+-----+\n",
      "|income|age_range|count|\n",
      "+------+---------+-----+\n",
      "| <=50K|     0-20| 3619|\n",
      "|  >50K|     0-20|    4|\n",
      "| <=50K|    21-40|20411|\n",
      "|  >50K|    21-40| 4597|\n",
      "| <=50K|    41-60|10370|\n",
      "|  >50K|    41-60| 6235|\n",
      "| <=50K|    61-80| 2632|\n",
      "|  >50K|    61-80|  826|\n",
      "| <=50K|      80+|  123|\n",
      "|  >50K|      80+|   25|\n",
      "+------+---------+-----+\n",
      "\n"
     ]
    }
   ],
   "source": [
    "from pyspark.sql.functions import col,isnan, when, count\n",
    "df.select('age').orderBy('age', ascending=False).show(1)\n",
    "df.select('age').orderBy('age').show(1)\n",
    "ageWithIncome = df.select(\"*\",when(df['age'] <=20, '0-20')\n",
    "          .when((df['age'] >20) & (df['age'] <= 40), '21-40')\n",
    "          .when((df['age'] >40) & (df['age'] <= 60), '41-60')\n",
    "          .when((df['age'] >60) & (df['age'] <= 80), '61-80')\n",
    "          .otherwise('80+').alias('age_range')).groupBy(\"income\",\"age_range\").count().orderBy('age_range','income').show()"
   ]
  },
  {
   "cell_type": "code",
   "execution_count": 59,
   "id": "67225b60",
   "metadata": {},
   "outputs": [
    {
     "name": "stdout",
     "output_type": "stream",
     "text": [
      "+------+-------------+-----+\n",
      "|income|education-num|count|\n",
      "+------+-------------+-----+\n",
      "|  >50K|           16|  431|\n",
      "| <=50K|           16|  163|\n",
      "|  >50K|           15|  617|\n",
      "| <=50K|           15|  217|\n",
      "|  >50K|           14| 1459|\n",
      "| <=50K|           14| 1198|\n",
      "|  >50K|           13| 3313|\n",
      "| <=50K|           13| 4712|\n",
      "|  >50K|           12|  413|\n",
      "| <=50K|           12| 1188|\n",
      "|  >50K|           11|  522|\n",
      "| <=50K|           11| 1539|\n",
      "|  >50K|           10| 2063|\n",
      "| <=50K|           10| 8815|\n",
      "|  >50K|            9| 2503|\n",
      "| <=50K|            9|13281|\n",
      "|  >50K|            8|   48|\n",
      "| <=50K|            8|  609|\n",
      "|  >50K|            7|   92|\n",
      "| <=50K|            7| 1720|\n",
      "|  >50K|            6|   87|\n",
      "| <=50K|            6| 1302|\n",
      "|  >50K|            5|   41|\n",
      "| <=50K|            5|  715|\n",
      "|  >50K|            4|   62|\n",
      "| <=50K|            4|  893|\n",
      "|  >50K|            3|   27|\n",
      "| <=50K|            3|  482|\n",
      "|  >50K|            2|    8|\n",
      "| <=50K|            2|  239|\n",
      "|  >50K|            1|    1|\n",
      "| <=50K|            1|   82|\n",
      "+------+-------------+-----+\n",
      "\n"
     ]
    }
   ],
   "source": [
    "df.groupBy(\"income\",\"education-num\").count().orderBy('education-num','income', ascending=False).show(40)\n"
   ]
  },
  {
   "cell_type": "code",
   "execution_count": 60,
   "id": "ddec7e65",
   "metadata": {},
   "outputs": [
    {
     "name": "stdout",
     "output_type": "stream",
     "text": [
      "+--------------+\n",
      "|hours-per-week|\n",
      "+--------------+\n",
      "|            99|\n",
      "+--------------+\n",
      "only showing top 1 row\n",
      "\n",
      "+--------------+\n",
      "|hours-per-week|\n",
      "+--------------+\n",
      "|             1|\n",
      "+--------------+\n",
      "only showing top 1 row\n",
      "\n",
      "+------+-----------+-----+\n",
      "|income|hours_range|count|\n",
      "+------+-----------+-----+\n",
      "| <=50K|       0-20| 4152|\n",
      "|  >50K|       0-20|  301|\n",
      "| <=50K|      21-40|24393|\n",
      "|  >50K|      21-40| 5644|\n",
      "| <=50K|      41-60| 7533|\n",
      "|  >50K|      41-60| 5143|\n",
      "| <=50K|      61-80|  859|\n",
      "|  >50K|      61-80|  499|\n",
      "| <=50K|        80+|  218|\n",
      "|  >50K|        80+|  100|\n",
      "+------+-----------+-----+\n",
      "\n"
     ]
    }
   ],
   "source": [
    "df.select('hours-per-week').orderBy('hours-per-week', ascending=False).show(1)\n",
    "df.select('hours-per-week').orderBy('hours-per-week').show(1)\n",
    "hoursWithIncome = df.select(\"*\",when(df['hours-per-week'] <=20, '0-20')\n",
    "          .when((df['hours-per-week'] >20) & (df['hours-per-week'] <= 40), '21-40')\n",
    "          .when((df['hours-per-week'] >40) & (df['hours-per-week'] <= 60), '41-60')\n",
    "          .when((df['hours-per-week'] >60) & (df['hours-per-week'] <= 80), '61-80')\n",
    "          .otherwise('80+').alias('hours_range')).groupBy(\"income\",\"hours_range\").count().orderBy('hours_range','income').show()\n"
   ]
  },
  {
   "cell_type": "code",
   "execution_count": 61,
   "id": "df9845f4",
   "metadata": {},
   "outputs": [
    {
     "data": {
      "text/plain": [
       "[Row(sum(age_out)=216, sum(fnlwgt_out)=1453, sum(education-num_out)=1794, sum(capital-gain_out)=4035, sum(capital-loss_out)=2282, sum(hours-per-week_out)=13496)]"
      ]
     },
     "execution_count": 61,
     "metadata": {},
     "output_type": "execute_result"
    }
   ],
   "source": [
    "non_string_cols = [c for c, t in df.dtypes if t !='string']\n",
    "bounds = {\n",
    "    c: dict(\n",
    "        zip([\"q1\", \"q3\"], df.approxQuantile(c, [0.25, 0.75], 0))\n",
    "    )\n",
    "    # numeric columns\n",
    "    for c in non_string_cols\n",
    "}\n",
    "\n",
    "for c in bounds:\n",
    "    iqr = bounds[c]['q3'] - bounds[c]['q1']\n",
    "    bounds[c]['lower'] = bounds[c]['q1'] - (iqr * 1.5)\n",
    "    bounds[c]['upper'] = bounds[c]['q3'] + (iqr * 1.5)\n",
    "outliers=df.select(\n",
    "    \"*\",\n",
    "    *[\n",
    "        when(\n",
    "            col(c).between(bounds[c]['lower'], bounds[c]['upper']),\n",
    "            0\n",
    "        ).otherwise(1).alias(c+\"_out\") \n",
    "        for c in non_string_cols\n",
    "    ]\n",
    ").select('age_out','fnlwgt_out','education-num_out','capital-gain_out','capital-loss_out','hours-per-week_out')\n",
    "outliers.groupBy().sum().collect()"
   ]
  },
  {
   "cell_type": "code",
   "execution_count": 62,
   "id": "406e7d45",
   "metadata": {},
   "outputs": [
    {
     "data": {
      "image/png": "[encoded data removed]",
      "text/plain": [
       "<Figure size 432x288 with 1 Axes>"
      ]
     },
     "metadata": {
      "needs_background": "light"
     },
     "output_type": "display_data"
    }
   ],
   "source": [
    "incomeArr = np.array(df.select('capital-gain').collect())\n",
    "plt.hist(incomeArr)\n",
    "plt.show()"
   ]
  },
  {
   "cell_type": "code",
   "execution_count": 63,
   "id": "aa1e5a16",
   "metadata": {
    "scrolled": true
   },
   "outputs": [
    {
     "data": {
      "image/png": "[encoded data removed]",
      "text/plain": [
       "<Figure size 432x288 with 1 Axes>"
      ]
     },
     "metadata": {
      "needs_background": "light"
     },
     "output_type": "display_data"
    }
   ],
   "source": [
    "incomeArr = np.array(df.select('capital-loss').collect())\n",
    "plt.hist(incomeArr)\n",
    "plt.show()"
   ]
  },
  {
   "cell_type": "code",
   "execution_count": 64,
   "id": "66be91d8",
   "metadata": {
    "scrolled": true
   },
   "outputs": [
    {
     "name": "stdout",
     "output_type": "stream",
     "text": [
      "root\n",
      " |-- age: integer (nullable = true)\n",
      " |-- workclass: string (nullable = true)\n",
      " |-- education-num: integer (nullable = true)\n",
      " |-- marital-status: string (nullable = true)\n",
      " |-- occupation: string (nullable = true)\n",
      " |-- relationship: string (nullable = true)\n",
      " |-- race: string (nullable = true)\n",
      " |-- sex: string (nullable = true)\n",
      " |-- hours-per-week: integer (nullable = true)\n",
      " |-- native-country: string (nullable = true)\n",
      " |-- income: string (nullable = true)\n",
      "\n"
     ]
    }
   ],
   "source": [
    "df = df.drop('fnlwgt', 'education', 'capital-gain', 'capital-loss')\n",
    "df.printSchema()"
   ]
  },
  {
   "cell_type": "code",
   "execution_count": 65,
   "id": "3c7bdb2d",
   "metadata": {},
   "outputs": [
    {
     "name": "stdout",
     "output_type": "stream",
     "text": [
      "age: 0\n",
      "workclass: 2799\n",
      "education-num: 0\n",
      "marital-status: 0\n",
      "occupation: 2809\n",
      "relationship: 0\n",
      "race: 0\n",
      "sex: 0\n",
      "hours-per-week: 0\n",
      "native-country: 857\n",
      "income: 0\n"
     ]
    }
   ],
   "source": [
    "for c in df.columns:\n",
    "    print(c + \": \" + str(df.filter(col(c).contains('?')).count()))\n"
   ]
  },
  {
   "cell_type": "code",
   "execution_count": 66,
   "id": "8370eb0d",
   "metadata": {},
   "outputs": [
    {
     "data": {
      "text/plain": [
       "45222"
      ]
     },
     "execution_count": 66,
     "metadata": {},
     "output_type": "execute_result"
    }
   ],
   "source": [
    "df = df.filter((df['workclass'] != '?') & (df['occupation'] != '?') & (df['native-country'] != '?'))\n",
    "df.count()"
   ]
  },
  {
   "cell_type": "code",
   "execution_count": 67,
   "id": "aa337906",
   "metadata": {},
   "outputs": [
    {
     "name": "stdout",
     "output_type": "stream",
     "text": [
      "age: 0\n",
      "workclass: 0\n",
      "education-num: 0\n",
      "marital-status: 0\n",
      "occupation: 0\n",
      "relationship: 0\n",
      "race: 0\n",
      "sex: 0\n",
      "hours-per-week: 0\n",
      "native-country: 0\n",
      "income: 0\n"
     ]
    }
   ],
   "source": [
    "for c in df.columns:\n",
    "    print(c + \": \" + str(df.filter(col(c) == '?').count()))"
   ]
  },
  {
   "cell_type": "code",
   "execution_count": 68,
   "id": "f1a80690",
   "metadata": {},
   "outputs": [
    {
     "data": {
      "text/plain": [
       "[Row(sum(age_out)=269, sum(education-num_out)=294, sum(hours-per-week_out)=11899)]"
      ]
     },
     "execution_count": 68,
     "metadata": {},
     "output_type": "execute_result"
    }
   ],
   "source": [
    "non_string_cols = [c for c, t in df.dtypes if t !='string']\n",
    "bounds = {\n",
    "    c: dict(\n",
    "        zip([\"q1\", \"q3\"], df.approxQuantile(c, [0.25, 0.75], 0))\n",
    "    )\n",
    "    # numeric columns\n",
    "    for c in non_string_cols\n",
    "}\n",
    "\n",
    "for c in bounds:\n",
    "    iqr = bounds[c]['q3'] - bounds[c]['q1']\n",
    "    bounds[c]['lower'] = bounds[c]['q1'] - (iqr * 1.5)\n",
    "    bounds[c]['upper'] = bounds[c]['q3'] + (iqr * 1.5)\n",
    "outliers=df.select(\n",
    "    \"*\",\n",
    "    *[\n",
    "        when(\n",
    "            col(c).between(bounds[c]['lower'], bounds[c]['upper']),\n",
    "            0\n",
    "        ).otherwise(1).alias(c+\"_out\") \n",
    "        for c in non_string_cols\n",
    "    ]\n",
    ").select('age_out','education-num_out','hours-per-week_out')\n",
    "outliers.groupBy().sum().collect()"
   ]
  },
  {
   "cell_type": "code",
   "execution_count": 69,
   "id": "80055ad9",
   "metadata": {},
   "outputs": [
    {
     "data": {
      "text/plain": [
       "16"
      ]
     },
     "execution_count": 69,
     "metadata": {},
     "output_type": "execute_result"
    }
   ],
   "source": [
    "df.select('education-num').distinct().count()"
   ]
  },
  {
   "cell_type": "code",
   "execution_count": 70,
   "id": "20c96858",
   "metadata": {},
   "outputs": [
    {
     "name": "stdout",
     "output_type": "stream",
     "text": [
      "+---------+-----+\n",
      "|education|count|\n",
      "+---------+-----+\n",
      "|        1|20444|\n",
      "|        2|13365|\n",
      "|        3| 7570|\n",
      "|        4| 3843|\n",
      "+---------+-----+\n",
      "\n"
     ]
    }
   ],
   "source": [
    "df = df.select(\"*\",when((df['education-num']>0) & (df['education-num']<=9),1)\n",
    "              .when((df['education-num']>9) & (df['education-num']<=12),2)\n",
    "              .when(df['education-num']==13,3)\n",
    "              .otherwise(4).alias(\"education\")\n",
    "    )\n",
    "df.groupBy(\"education\").count().orderBy('education').show()\n"
   ]
  },
  {
   "cell_type": "code",
   "execution_count": 71,
   "id": "674d1f86",
   "metadata": {},
   "outputs": [
    {
     "name": "stdout",
     "output_type": "stream",
     "text": [
      "+------------------------+-----+\n",
      "|native-country-processed|count|\n",
      "+------------------------+-----+\n",
      "|                       1|41292|\n",
      "|                       2| 3930|\n",
      "+------------------------+-----+\n",
      "\n"
     ]
    }
   ],
   "source": [
    "df = df.select(\"*\",when(df['native-country'] == 'United-States',1)\n",
    "              .otherwise(2).alias(\"native-country-processed\")\n",
    "    )\n",
    "df.groupBy(\"native-country-processed\").count().orderBy('native-country-processed').show()"
   ]
  },
  {
   "cell_type": "code",
   "execution_count": 72,
   "id": "d52d7efe",
   "metadata": {},
   "outputs": [
    {
     "name": "stdout",
     "output_type": "stream",
     "text": [
      "+--------------+-----+\n",
      "|race-processed|count|\n",
      "+--------------+-----+\n",
      "|             1|38903|\n",
      "|             2| 6319|\n",
      "+--------------+-----+\n",
      "\n"
     ]
    }
   ],
   "source": [
    "df = df.select(\"*\",when(df['race'] == 'White',1)\n",
    "              .otherwise(2).alias(\"race-processed\")\n",
    "    )\n",
    "df.groupBy(\"race-processed\").count().orderBy('race-processed').show()"
   ]
  },
  {
   "cell_type": "code",
   "execution_count": 73,
   "id": "f736361a",
   "metadata": {},
   "outputs": [
    {
     "name": "stdout",
     "output_type": "stream",
     "text": [
      "+-------------------+-----+\n",
      "|workclass-processed|count|\n",
      "+-------------------+-----+\n",
      "|                  1|33307|\n",
      "|                  2| 6452|\n",
      "|                  3| 5442|\n",
      "|                  4|   21|\n",
      "+-------------------+-----+\n",
      "\n"
     ]
    }
   ],
   "source": [
    "df = df.select(\"*\",when(df['workclass'] == 'Private',1)\n",
    "              .when((df['workclass'] == 'Local-gov') | (df['workclass'] == 'State-gov') | (df['workclass'] == 'Federal-gov'),2)\n",
    "              .when((df['workclass'] == 'Self-emp-not-inc') | (df['workclass'] == 'Self-emp-inc'),3)\n",
    "              .otherwise(4).alias(\"workclass-processed\")\n",
    "    )\n",
    "df.groupBy(\"workclass-processed\").count().orderBy('workclass-processed').show()"
   ]
  },
  {
   "cell_type": "code",
   "execution_count": 74,
   "id": "0c6c6d45",
   "metadata": {},
   "outputs": [
    {
     "name": "stdout",
     "output_type": "stream",
     "text": [
      "+-------------+-----+\n",
      "|age-processed|count|\n",
      "+-------------+-----+\n",
      "|            1|25407|\n",
      "|            2|16967|\n",
      "|            3| 2848|\n",
      "+-------------+-----+\n",
      "\n"
     ]
    }
   ],
   "source": [
    "df = df.select(\"*\",when((df['age']>=17) & (df['age']<=39),1)\n",
    "              .when((df['age']>39) & (df['age']<=60),2)\n",
    "              .otherwise(3).alias(\"age-processed\")\n",
    "    )\n",
    "df.groupBy(\"age-processed\").count().orderBy('age-processed').show()"
   ]
  },
  {
   "cell_type": "code",
   "execution_count": 75,
   "id": "9858d93d",
   "metadata": {},
   "outputs": [
    {
     "name": "stdout",
     "output_type": "stream",
     "text": [
      "+------------------------+-----+\n",
      "|hours-per-week-processed|count|\n",
      "+------------------------+-----+\n",
      "|                       1| 2000|\n",
      "|                       2|29445|\n",
      "|                       3|13777|\n",
      "+------------------------+-----+\n",
      "\n"
     ]
    }
   ],
   "source": [
    "df = df.select(\"*\",when(df['hours-per-week']<20,1)\n",
    "              .when((df['hours-per-week']>=20) & (df['hours-per-week']<=40),2)\n",
    "              .otherwise(3).alias(\"hours-per-week-processed\")\n",
    "    )\n",
    "df.groupBy(\"hours-per-week-processed\").count().orderBy('hours-per-week-processed').show()"
   ]
  },
  {
   "cell_type": "code",
   "execution_count": 76,
   "id": "ae81f531",
   "metadata": {},
   "outputs": [],
   "source": [
    "from pyspark.ml.feature import (VectorAssembler,VectorIndexer,\n",
    "                                OneHotEncoder,StringIndexer)\n",
    "from pyspark.ml import Pipeline\n",
    "\n",
    "maritalStatus_indexer = StringIndexer(inputCol='marital-status',outputCol='maritalStatusIndex')\n",
    "maritalStatus_encoder = OneHotEncoder(inputCol='maritalStatusIndex',outputCol='maritalStatusVec')\n",
    "occupation_indexer = StringIndexer(inputCol='occupation',outputCol='occupationIndex')\n",
    "occupation_encoder = OneHotEncoder(inputCol='occupationIndex',outputCol='occupationVec')\n",
    "relationship_indexer = StringIndexer(inputCol='relationship',outputCol='relationshipIndex')\n",
    "relationship_encoder = OneHotEncoder(inputCol='relationshipIndex',outputCol='relationshipVec')\n",
    "gender_indexer = StringIndexer(inputCol='sex',outputCol='sexIndex')\n",
    "gender_encoder = OneHotEncoder(inputCol='sexIndex',outputCol='sexVec')\n",
    "income_indexer = StringIndexer(inputCol='income',outputCol='incomeIndex')\n",
    "income_encoder = OneHotEncoder(inputCol='incomeIndex',outputCol='incomeVec')\n",
    "\n",
    "transformPipeline = Pipeline(stages=[maritalStatus_indexer,occupation_indexer, relationship_indexer,gender_indexer,\n",
    "                           income_indexer,maritalStatus_encoder, occupation_encoder, relationship_encoder, \n",
    "                            gender_encoder, income_encoder])\n",
    "\n",
    "fit_model = transformPipeline.fit(df)\n",
    "df = fit_model.transform(df)"
   ]
  },
  {
   "cell_type": "code",
   "execution_count": 102,
   "id": "bbf6e234",
   "metadata": {},
   "outputs": [
    {
     "name": "stdout",
     "output_type": "stream",
     "text": [
      "root\n",
      " |-- education: integer (nullable = false)\n",
      " |-- native-country-processed: integer (nullable = false)\n",
      " |-- race-processed: integer (nullable = false)\n",
      " |-- workclass-processed: integer (nullable = false)\n",
      " |-- age-processed: integer (nullable = false)\n",
      " |-- hours-per-week-processed: integer (nullable = false)\n",
      " |-- incomeIndex: double (nullable = false)\n",
      " |-- maritalStatusVec: vector (nullable = true)\n",
      " |-- occupationVec: vector (nullable = true)\n",
      " |-- relationshipVec: vector (nullable = true)\n",
      " |-- sexVec: vector (nullable = true)\n",
      " |-- incomeVec: vector (nullable = true)\n",
      "\n"
     ]
    }
   ],
   "source": [
    "df = df.drop('age', 'workclass', 'education-num', 'marital-status', 'occupation', 'relationship', 'race', 'sex',\n",
    "            'hours-per-week', 'native-country', 'income', 'maritalStatusIndex', 'occupationIndex', 'relationshipIndex',\n",
    "            'relationshipIndex', 'sexIndex')\n",
    "df.printSchema()"
   ]
  },
  {
   "cell_type": "code",
   "execution_count": 78,
   "id": "e2eefd07",
   "metadata": {},
   "outputs": [
    {
     "ename": "SyntaxError",
     "evalue": "invalid syntax (3134586829.py, line 1)",
     "output_type": "error",
     "traceback": [
      "\u001b[0;36m  Input \u001b[0;32mIn [78]\u001b[0;36m\u001b[0m\n\u001b[0;31m    featureColumns = ['education', 'native-country-processed', , 'maritalStatusIndex', 'occupationIndex', 'relationshipIndex', 'sexIndex', 'race-processed', 'workclass-processed','age-processed',\u001b[0m\n\u001b[0m                                                               ^\u001b[0m\n\u001b[0;31mSyntaxError\u001b[0m\u001b[0;31m:\u001b[0m invalid syntax\n"
     ]
    }
   ],
   "source": [
    "featureColumns = ['education', 'native-country-processed', , 'maritalStatusIndex', 'occupationIndex', 'relationshipIndex', 'sexIndex', 'race-processed', 'workclass-processed','age-processed',\n",
    " 'hours-per-week-processed']\n",
    "assembler = VectorAssembler(inputCols=featureColumns,outputCol='features')\n",
    "df = assembler.transform(df)\n",
    "df.printSchema()\n",
    "df.select('features', 'incomeIndex').show()\n",
    "\n"
   ]
  },
  {
   "cell_type": "code",
   "execution_count": 53,
   "id": "56b568d5",
   "metadata": {},
   "outputs": [
    {
     "name": "stdout",
     "output_type": "stream",
     "text": [
      "[0, 1, 2, 3, 4, 5, 6, 7, 8, 9]\n"
     ]
    },
    {
     "name": "stderr",
     "output_type": "stream",
     "text": [
      "\r",
      "[Stage 310:>                                                        (0 + 2) / 2]\r",
      "\r",
      "                                                                                \r"
     ]
    },
    {
     "data": {
      "text/plain": [
       "array(['education', 'native-country-processed', 'race-processed',\n",
       "       'workclass-processed', 'age-processed', 'hours-per-week-processed',\n",
       "       'maritalStatusIndex', 'occupationIndex', 'relationshipIndex',\n",
       "       'sexIndex'], dtype='<U24')"
      ]
     },
     "execution_count": 53,
     "metadata": {},
     "output_type": "execute_result"
    }
   ],
   "source": [
    "from pyspark.ml.feature import ChiSqSelector\n",
    "selector = ChiSqSelector(numTopFeatures=15, featuresCol=\"features\",\n",
    "                         outputCol=\"selectedFeatures\", labelCol=\"incomeIndex\")\n",
    "\n",
    "\n",
    "model = selector.fit(df)\n",
    "print(model.selectedFeatures)\n",
    "\n",
    "np.array(featureColumns)[model.selectedFeatures]\n"
   ]
  },
  {
   "cell_type": "code",
   "execution_count": null,
   "id": "cd7458c2",
   "metadata": {},
   "outputs": [],
   "source": []
  }
 ],
 "metadata": {
  "kernelspec": {
   "display_name": "Python 3 (ipykernel)",
   "language": "python",
   "name": "python3"
  },
  "language_info": {
   "codemirror_mode": {
    "name": "ipython",
    "version": 3
   },
   "file_extension": ".py",
   "mimetype": "text/x-python",
   "name": "python",
   "nbconvert_exporter": "python",
   "pygments_lexer": "ipython3",
   "version": "3.10.4"
  }
 },
 "nbformat": 4,
 "nbformat_minor": 5
}
