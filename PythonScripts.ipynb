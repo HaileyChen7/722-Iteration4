{
 "cells": [
  {
   "cell_type": "code",
   "execution_count": 1,
   "id": "6383ce9c",
   "metadata": {},
   "outputs": [
    {
     "name": "stderr",
     "output_type": "stream",
     "text": [
      "WARNING: An illegal reflective access operation has occurred\n",
      "WARNING: Illegal reflective access by org.apache.spark.unsafe.Platform (file:/home/ubuntu/spark-3.2.1-bin-hadoop2.7/jars/spark-unsafe_2.12-3.2.1.jar) to constructor java.nio.DirectByteBuffer(long,int)\n",
      "WARNING: Please consider reporting this to the maintainers of org.apache.spark.unsafe.Platform\n",
      "WARNING: Use --illegal-access=warn to enable warnings of further illegal reflective access operations\n",
      "WARNING: All illegal access operations will be denied in a future release\n",
      "Using Spark's default log4j profile: org/apache/spark/log4j-defaults.properties\n",
      "Setting default log level to \"WARN\".\n",
      "To adjust logging level use sc.setLogLevel(newLevel). For SparkR, use setLogLevel(newLevel).\n",
      "22/10/09 08:59:06 WARN NativeCodeLoader: Unable to load native-hadoop library for your platform... using builtin-java classes where applicable\n"
     ]
    }
   ],
   "source": [
    "import findspark\n",
    "findspark.init('/home/ubuntu/spark-3.2.1-bin-hadoop2.7')\n",
    "import pyspark\n",
    "from pyspark.sql import SparkSession\n",
    "spark = SparkSession.builder.appName('SalaryPrediction').getOrCreate()"
   ]
  },
  {
   "cell_type": "code",
   "execution_count": 97,
   "id": "6e7a359d",
   "metadata": {},
   "outputs": [],
   "source": [
    "df = spark.read.csv('Datasets/salary1.csv', inferSchema=True, header=True)\n",
    "df2 = spark.read.csv('Datasets/salary2.csv', inferSchema=True, header=True)\n",
    "df = df.union(df2)"
   ]
  },
  {
   "cell_type": "code",
   "execution_count": 3,
   "id": "00925548",
   "metadata": {},
   "outputs": [
    {
     "name": "stdout",
     "output_type": "stream",
     "text": [
      "root\n",
      " |-- age: integer (nullable = true)\n",
      " |-- workclass: string (nullable = true)\n",
      " |-- fnlwgt: integer (nullable = true)\n",
      " |-- education: string (nullable = true)\n",
      " |-- education-num: integer (nullable = true)\n",
      " |-- marital-status: string (nullable = true)\n",
      " |-- occupation: string (nullable = true)\n",
      " |-- relationship: string (nullable = true)\n",
      " |-- race: string (nullable = true)\n",
      " |-- sex: string (nullable = true)\n",
      " |-- capital-gain: integer (nullable = true)\n",
      " |-- capital-loss: integer (nullable = true)\n",
      " |-- hours-per-week: integer (nullable = true)\n",
      " |-- native-country: string (nullable = true)\n",
      " |-- income: string (nullable = true)\n",
      "\n"
     ]
    },
    {
     "data": {
      "text/plain": [
       "48842"
      ]
     },
     "execution_count": 3,
     "metadata": {},
     "output_type": "execute_result"
    }
   ],
   "source": [
    "df.printSchema()\n",
    "df.count()"
   ]
  },
  {
   "cell_type": "code",
   "execution_count": 4,
   "id": "b293491e",
   "metadata": {},
   "outputs": [
    {
     "data": {
      "image/png": "[encoded data removed]",
      "text/plain": [
       "<Figure size 432x288 with 1 Axes>"
      ]
     },
     "metadata": {
      "needs_background": "light"
     },
     "output_type": "display_data"
    },
    {
     "name": "stdout",
     "output_type": "stream",
     "text": [
      "<=50K: 37155\n",
      ">50K: 11687\n"
     ]
    }
   ],
   "source": [
    "import numpy as np\n",
    "import matplotlib.pyplot as plt\n",
    "%matplotlib inline\n",
    "incomeArr = np.array(df.select('income').collect())\n",
    "plt.hist(incomeArr)\n",
    "plt.show()\n",
    "print(\"<=50K: \"+str(df.filter(df['income'] == '<=50K').count()))\n",
    "print(\">50K: \"+str(df.filter(df['income'] == '>50K').count()))"
   ]
  },
  {
   "cell_type": "code",
   "execution_count": 5,
   "id": "eda53294",
   "metadata": {},
   "outputs": [
    {
     "name": "stdout",
     "output_type": "stream",
     "text": [
      "+---+\n",
      "|age|\n",
      "+---+\n",
      "| 90|\n",
      "+---+\n",
      "only showing top 1 row\n",
      "\n",
      "+---+\n",
      "|age|\n",
      "+---+\n",
      "| 17|\n",
      "+---+\n",
      "only showing top 1 row\n",
      "\n"
     ]
    },
    {
     "name": "stderr",
     "output_type": "stream",
     "text": [
      "\r",
      "[Stage 16:=============================>                            (1 + 1) / 2]\r"
     ]
    },
    {
     "name": "stdout",
     "output_type": "stream",
     "text": [
      "+------+---------+-----+\n",
      "|income|age_range|count|\n",
      "+------+---------+-----+\n",
      "| <=50K|     0-20| 3619|\n",
      "|  >50K|     0-20|    4|\n",
      "| <=50K|    21-40|20411|\n",
      "|  >50K|    21-40| 4597|\n",
      "| <=50K|    41-60|10370|\n",
      "|  >50K|    41-60| 6235|\n",
      "| <=50K|    61-80| 2632|\n",
      "|  >50K|    61-80|  826|\n",
      "| <=50K|      80+|  123|\n",
      "|  >50K|      80+|   25|\n",
      "+------+---------+-----+\n",
      "\n"
     ]
    },
    {
     "name": "stderr",
     "output_type": "stream",
     "text": [
      "\r",
      "                                                                                \r"
     ]
    }
   ],
   "source": [
    "from pyspark.sql.functions import col,isnan, when, count\n",
    "df.select('age').orderBy('age', ascending=False).show(1)\n",
    "df.select('age').orderBy('age').show(1)\n",
    "ageWithIncome = df.select(\"*\",when(df['age'] <=20, '0-20')\n",
    "          .when((df['age'] >20) & (df['age'] <= 40), '21-40')\n",
    "          .when((df['age'] >40) & (df['age'] <= 60), '41-60')\n",
    "          .when((df['age'] >60) & (df['age'] <= 80), '61-80')\n",
    "          .otherwise('80+').alias('age_range')).groupBy(\"income\",\"age_range\").count().orderBy('age_range','income').show()"
   ]
  },
  {
   "cell_type": "code",
   "execution_count": 6,
   "id": "67225b60",
   "metadata": {},
   "outputs": [
    {
     "name": "stdout",
     "output_type": "stream",
     "text": [
      "+------+-------------+-----+\n",
      "|income|education-num|count|\n",
      "+------+-------------+-----+\n",
      "|  >50K|           16|  431|\n",
      "| <=50K|           16|  163|\n",
      "|  >50K|           15|  617|\n",
      "| <=50K|           15|  217|\n",
      "|  >50K|           14| 1459|\n",
      "| <=50K|           14| 1198|\n",
      "|  >50K|           13| 3313|\n",
      "| <=50K|           13| 4712|\n",
      "|  >50K|           12|  413|\n",
      "| <=50K|           12| 1188|\n",
      "|  >50K|           11|  522|\n",
      "| <=50K|           11| 1539|\n",
      "|  >50K|           10| 2063|\n",
      "| <=50K|           10| 8815|\n",
      "|  >50K|            9| 2503|\n",
      "| <=50K|            9|13281|\n",
      "|  >50K|            8|   48|\n",
      "| <=50K|            8|  609|\n",
      "|  >50K|            7|   92|\n",
      "| <=50K|            7| 1720|\n",
      "|  >50K|            6|   87|\n",
      "| <=50K|            6| 1302|\n",
      "|  >50K|            5|   41|\n",
      "| <=50K|            5|  715|\n",
      "|  >50K|            4|   62|\n",
      "| <=50K|            4|  893|\n",
      "|  >50K|            3|   27|\n",
      "| <=50K|            3|  482|\n",
      "|  >50K|            2|    8|\n",
      "| <=50K|            2|  239|\n",
      "|  >50K|            1|    1|\n",
      "| <=50K|            1|   82|\n",
      "+------+-------------+-----+\n",
      "\n"
     ]
    }
   ],
   "source": [
    "df.groupBy(\"income\",\"education-num\").count().orderBy('education-num','income', ascending=False).show(40)\n"
   ]
  },
  {
   "cell_type": "code",
   "execution_count": 7,
   "id": "ddec7e65",
   "metadata": {},
   "outputs": [
    {
     "name": "stdout",
     "output_type": "stream",
     "text": [
      "+--------------+\n",
      "|hours-per-week|\n",
      "+--------------+\n",
      "|            99|\n",
      "+--------------+\n",
      "only showing top 1 row\n",
      "\n",
      "+--------------+\n",
      "|hours-per-week|\n",
      "+--------------+\n",
      "|             1|\n",
      "+--------------+\n",
      "only showing top 1 row\n",
      "\n",
      "+------+-----------+-----+\n",
      "|income|hours_range|count|\n",
      "+------+-----------+-----+\n",
      "| <=50K|       0-20| 4152|\n",
      "|  >50K|       0-20|  301|\n",
      "| <=50K|      21-40|24393|\n",
      "|  >50K|      21-40| 5644|\n",
      "| <=50K|      41-60| 7533|\n",
      "|  >50K|      41-60| 5143|\n",
      "| <=50K|      61-80|  859|\n",
      "|  >50K|      61-80|  499|\n",
      "| <=50K|        80+|  218|\n",
      "|  >50K|        80+|  100|\n",
      "+------+-----------+-----+\n",
      "\n"
     ]
    }
   ],
   "source": [
    "df.select('hours-per-week').orderBy('hours-per-week', ascending=False).show(1)\n",
    "df.select('hours-per-week').orderBy('hours-per-week').show(1)\n",
    "hoursWithIncome = df.select(\"*\",when(df['hours-per-week'] <=20, '0-20')\n",
    "          .when((df['hours-per-week'] >20) & (df['hours-per-week'] <= 40), '21-40')\n",
    "          .when((df['hours-per-week'] >40) & (df['hours-per-week'] <= 60), '41-60')\n",
    "          .when((df['hours-per-week'] >60) & (df['hours-per-week'] <= 80), '61-80')\n",
    "          .otherwise('80+').alias('hours_range')).groupBy(\"income\",\"hours_range\").count().orderBy('hours_range','income').show()\n"
   ]
  },
  {
   "cell_type": "code",
   "execution_count": 8,
   "id": "df9845f4",
   "metadata": {},
   "outputs": [
    {
     "name": "stderr",
     "output_type": "stream",
     "text": [
      "\r",
      "[Stage 27:=============================>                            (1 + 1) / 2]\r",
      "\r",
      "                                                                                \r"
     ]
    },
    {
     "data": {
      "text/plain": [
       "[Row(sum(age_out)=216, sum(fnlwgt_out)=1453, sum(education-num_out)=1794, sum(capital-gain_out)=4035, sum(capital-loss_out)=2282, sum(hours-per-week_out)=13496)]"
      ]
     },
     "execution_count": 8,
     "metadata": {},
     "output_type": "execute_result"
    }
   ],
   "source": [
    "non_string_cols = [c for c, t in df.dtypes if t !='string']\n",
    "bounds = {\n",
    "    c: dict(\n",
    "        zip([\"q1\", \"q3\"], df.approxQuantile(c, [0.25, 0.75], 0))\n",
    "    )\n",
    "    # numeric columns\n",
    "    for c in non_string_cols\n",
    "}\n",
    "\n",
    "for c in bounds:\n",
    "    iqr = bounds[c]['q3'] - bounds[c]['q1']\n",
    "    bounds[c]['lower'] = bounds[c]['q1'] - (iqr * 1.5)\n",
    "    bounds[c]['upper'] = bounds[c]['q3'] + (iqr * 1.5)\n",
    "outliers=df.select(\n",
    "    \"*\",\n",
    "    *[\n",
    "        when(\n",
    "            col(c).between(bounds[c]['lower'], bounds[c]['upper']),\n",
    "            0\n",
    "        ).otherwise(1).alias(c+\"_out\") \n",
    "        for c in non_string_cols\n",
    "    ]\n",
    ").select('age_out','fnlwgt_out','education-num_out','capital-gain_out','capital-loss_out','hours-per-week_out')\n",
    "outliers.groupBy().sum().collect()"
   ]
  },
  {
   "cell_type": "code",
   "execution_count": 9,
   "id": "406e7d45",
   "metadata": {},
   "outputs": [
    {
     "data": {
      "image/png": "[encoded data removed]",
      "text/plain": [
       "<Figure size 432x288 with 1 Axes>"
      ]
     },
     "metadata": {
      "needs_background": "light"
     },
     "output_type": "display_data"
    }
   ],
   "source": [
    "incomeArr = np.array(df.select('capital-gain').collect())\n",
    "plt.hist(incomeArr)\n",
    "plt.show()"
   ]
  },
  {
   "cell_type": "code",
   "execution_count": 10,
   "id": "aa1e5a16",
   "metadata": {
    "scrolled": true
   },
   "outputs": [
    {
     "data": {
      "image/png": "[encoded data removed]",
      "text/plain": [
       "<Figure size 432x288 with 1 Axes>"
      ]
     },
     "metadata": {
      "needs_background": "light"
     },
     "output_type": "display_data"
    }
   ],
   "source": [
    "incomeArr = np.array(df.select('capital-loss').collect())\n",
    "plt.hist(incomeArr)\n",
    "plt.show()"
   ]
  },
  {
   "cell_type": "code",
   "execution_count": 11,
   "id": "66be91d8",
   "metadata": {
    "scrolled": true
   },
   "outputs": [
    {
     "name": "stdout",
     "output_type": "stream",
     "text": [
      "root\n",
      " |-- age: integer (nullable = true)\n",
      " |-- workclass: string (nullable = true)\n",
      " |-- education-num: integer (nullable = true)\n",
      " |-- marital-status: string (nullable = true)\n",
      " |-- occupation: string (nullable = true)\n",
      " |-- relationship: string (nullable = true)\n",
      " |-- race: string (nullable = true)\n",
      " |-- sex: string (nullable = true)\n",
      " |-- hours-per-week: integer (nullable = true)\n",
      " |-- native-country: string (nullable = true)\n",
      " |-- income: string (nullable = true)\n",
      "\n"
     ]
    }
   ],
   "source": [
    "df = df.drop('fnlwgt', 'education', 'capital-gain', 'capital-loss')\n",
    "df.printSchema()"
   ]
  },
  {
   "cell_type": "code",
   "execution_count": 12,
   "id": "3c7bdb2d",
   "metadata": {},
   "outputs": [
    {
     "name": "stdout",
     "output_type": "stream",
     "text": [
      "age: 0\n",
      "workclass: 2799\n",
      "education-num: 0\n",
      "marital-status: 0\n",
      "occupation: 2809\n",
      "relationship: 0\n",
      "race: 0\n",
      "sex: 0\n",
      "hours-per-week: 0\n",
      "native-country: 857\n",
      "income: 0\n"
     ]
    }
   ],
   "source": [
    "for c in df.columns:\n",
    "    print(c + \": \" + str(df.filter(col(c).contains('?')).count()))\n"
   ]
  },
  {
   "cell_type": "code",
   "execution_count": 13,
   "id": "8370eb0d",
   "metadata": {},
   "outputs": [
    {
     "data": {
      "text/plain": [
       "45222"
      ]
     },
     "execution_count": 13,
     "metadata": {},
     "output_type": "execute_result"
    }
   ],
   "source": [
    "df = df.filter((df['workclass'] != '?') & (df['occupation'] != '?') & (df['native-country'] != '?'))\n",
    "df.count()"
   ]
  },
  {
   "cell_type": "code",
   "execution_count": 14,
   "id": "aa337906",
   "metadata": {},
   "outputs": [
    {
     "name": "stdout",
     "output_type": "stream",
     "text": [
      "age: 0\n",
      "workclass: 0\n",
      "education-num: 0\n",
      "marital-status: 0\n",
      "occupation: 0\n",
      "relationship: 0\n",
      "race: 0\n",
      "sex: 0\n",
      "hours-per-week: 0\n",
      "native-country: 0\n",
      "income: 0\n"
     ]
    }
   ],
   "source": [
    "for c in df.columns:\n",
    "    print(c + \": \" + str(df.filter(col(c) == '?').count()))"
   ]
  },
  {
   "cell_type": "code",
   "execution_count": 15,
   "id": "f1a80690",
   "metadata": {},
   "outputs": [
    {
     "data": {
      "text/plain": [
       "[Row(sum(age_out)=269, sum(education-num_out)=294, sum(hours-per-week_out)=11899)]"
      ]
     },
     "execution_count": 15,
     "metadata": {},
     "output_type": "execute_result"
    }
   ],
   "source": [
    "non_string_cols = [c for c, t in df.dtypes if t !='string']\n",
    "bounds = {\n",
    "    c: dict(\n",
    "        zip([\"q1\", \"q3\"], df.approxQuantile(c, [0.25, 0.75], 0))\n",
    "    )\n",
    "    # numeric columns\n",
    "    for c in non_string_cols\n",
    "}\n",
    "\n",
    "for c in bounds:\n",
    "    iqr = bounds[c]['q3'] - bounds[c]['q1']\n",
    "    bounds[c]['lower'] = bounds[c]['q1'] - (iqr * 1.5)\n",
    "    bounds[c]['upper'] = bounds[c]['q3'] + (iqr * 1.5)\n",
    "outliers=df.select(\n",
    "    \"*\",\n",
    "    *[\n",
    "        when(\n",
    "            col(c).between(bounds[c]['lower'], bounds[c]['upper']),\n",
    "            0\n",
    "        ).otherwise(1).alias(c+\"_out\") \n",
    "        for c in non_string_cols\n",
    "    ]\n",
    ").select('age_out','education-num_out','hours-per-week_out')\n",
    "outliers.groupBy().sum().collect()"
   ]
  },
  {
   "cell_type": "code",
   "execution_count": 16,
   "id": "80055ad9",
   "metadata": {},
   "outputs": [
    {
     "data": {
      "text/plain": [
       "16"
      ]
     },
     "execution_count": 16,
     "metadata": {},
     "output_type": "execute_result"
    }
   ],
   "source": [
    "df.select('education-num').distinct().count()"
   ]
  },
  {
   "cell_type": "code",
   "execution_count": 17,
   "id": "20c96858",
   "metadata": {},
   "outputs": [
    {
     "name": "stdout",
     "output_type": "stream",
     "text": [
      "+---------+-----+\n",
      "|education|count|\n",
      "+---------+-----+\n",
      "|        1|20444|\n",
      "|        2|13365|\n",
      "|        3| 7570|\n",
      "|        4| 3843|\n",
      "+---------+-----+\n",
      "\n"
     ]
    }
   ],
   "source": [
    "df = df.select(\"*\",when((df['education-num']>0) & (df['education-num']<=9),1)\n",
    "              .when((df['education-num']>9) & (df['education-num']<=12),2)\n",
    "              .when(df['education-num']==13,3)\n",
    "              .otherwise(4).alias(\"education\")\n",
    "    )\n",
    "df.groupBy(\"education\").count().orderBy('education').show()\n"
   ]
  },
  {
   "cell_type": "code",
   "execution_count": 18,
   "id": "674d1f86",
   "metadata": {},
   "outputs": [
    {
     "name": "stdout",
     "output_type": "stream",
     "text": [
      "+------------------------+-----+\n",
      "|native-country-processed|count|\n",
      "+------------------------+-----+\n",
      "|                       1|41292|\n",
      "|                       2| 3930|\n",
      "+------------------------+-----+\n",
      "\n"
     ]
    }
   ],
   "source": [
    "df = df.select(\"*\",when(df['native-country'] == 'United-States',1)\n",
    "              .otherwise(2).alias(\"native-country-processed\")\n",
    "    )\n",
    "df.groupBy(\"native-country-processed\").count().orderBy('native-country-processed').show()"
   ]
  },
  {
   "cell_type": "code",
   "execution_count": 19,
   "id": "d52d7efe",
   "metadata": {},
   "outputs": [
    {
     "name": "stdout",
     "output_type": "stream",
     "text": [
      "+--------------+-----+\n",
      "|race-processed|count|\n",
      "+--------------+-----+\n",
      "|             1|38903|\n",
      "|             2| 6319|\n",
      "+--------------+-----+\n",
      "\n"
     ]
    }
   ],
   "source": [
    "df = df.select(\"*\",when(df['race'] == 'White',1)\n",
    "              .otherwise(2).alias(\"race-processed\")\n",
    "    )\n",
    "df.groupBy(\"race-processed\").count().orderBy('race-processed').show()"
   ]
  },
  {
   "cell_type": "code",
   "execution_count": 20,
   "id": "f736361a",
   "metadata": {},
   "outputs": [
    {
     "name": "stdout",
     "output_type": "stream",
     "text": [
      "+-------------------+-----+\n",
      "|workclass-processed|count|\n",
      "+-------------------+-----+\n",
      "|                  1|33307|\n",
      "|                  2| 6452|\n",
      "|                  3| 5442|\n",
      "|                  4|   21|\n",
      "+-------------------+-----+\n",
      "\n"
     ]
    }
   ],
   "source": [
    "df = df.select(\"*\",when(df['workclass'] == 'Private',1)\n",
    "              .when((df['workclass'] == 'Local-gov') | (df['workclass'] == 'State-gov') | (df['workclass'] == 'Federal-gov'),2)\n",
    "              .when((df['workclass'] == 'Self-emp-not-inc') | (df['workclass'] == 'Self-emp-inc'),3)\n",
    "              .otherwise(4).alias(\"workclass-processed\")\n",
    "    )\n",
    "df.groupBy(\"workclass-processed\").count().orderBy('workclass-processed').show()"
   ]
  },
  {
   "cell_type": "code",
   "execution_count": 21,
   "id": "0c6c6d45",
   "metadata": {},
   "outputs": [
    {
     "name": "stdout",
     "output_type": "stream",
     "text": [
      "+-------------+-----+\n",
      "|age-processed|count|\n",
      "+-------------+-----+\n",
      "|            1|25407|\n",
      "|            2|16967|\n",
      "|            3| 2848|\n",
      "+-------------+-----+\n",
      "\n"
     ]
    }
   ],
   "source": [
    "df = df.select(\"*\",when((df['age']>=17) & (df['age']<=39),1)\n",
    "              .when((df['age']>39) & (df['age']<=60),2)\n",
    "              .otherwise(3).alias(\"age-processed\")\n",
    "    )\n",
    "df.groupBy(\"age-processed\").count().orderBy('age-processed').show()"
   ]
  },
  {
   "cell_type": "code",
   "execution_count": 22,
   "id": "9858d93d",
   "metadata": {},
   "outputs": [
    {
     "name": "stdout",
     "output_type": "stream",
     "text": [
      "+------------------------+-----+\n",
      "|hours-per-week-processed|count|\n",
      "+------------------------+-----+\n",
      "|                       1| 2000|\n",
      "|                       2|29445|\n",
      "|                       3|13777|\n",
      "+------------------------+-----+\n",
      "\n"
     ]
    }
   ],
   "source": [
    "df = df.select(\"*\",when(df['hours-per-week']<20,1)\n",
    "              .when((df['hours-per-week']>=20) & (df['hours-per-week']<=40),2)\n",
    "              .otherwise(3).alias(\"hours-per-week-processed\")\n",
    "    )\n",
    "df.groupBy(\"hours-per-week-processed\").count().orderBy('hours-per-week-processed').show()"
   ]
  },
  {
   "cell_type": "code",
   "execution_count": 23,
   "id": "ae81f531",
   "metadata": {},
   "outputs": [
    {
     "name": "stderr",
     "output_type": "stream",
     "text": [
      "                                                                                \r"
     ]
    }
   ],
   "source": [
    "from pyspark.ml.feature import (VectorAssembler,VectorIndexer,\n",
    "                                StringIndexer)\n",
    "from pyspark.ml import Pipeline\n",
    "\n",
    "maritalStatus_indexer = StringIndexer(inputCol='marital-status',outputCol='maritalStatusIndex')\n",
    "occupation_indexer = StringIndexer(inputCol='occupation',outputCol='occupationIndex')\n",
    "relationship_indexer = StringIndexer(inputCol='relationship',outputCol='relationshipIndex')\n",
    "gender_indexer = StringIndexer(inputCol='sex',outputCol='sexIndex')\n",
    "income_indexer = StringIndexer(inputCol='income',outputCol='incomeIndex')\n",
    "\n",
    "transformPipeline = Pipeline(stages=[maritalStatus_indexer,occupation_indexer, relationship_indexer, gender_indexer,\n",
    "                           income_indexer])\n",
    "\n",
    "fit_model = transformPipeline.fit(df)\n",
    "df = fit_model.transform(df)"
   ]
  },
  {
   "cell_type": "code",
   "execution_count": 24,
   "id": "bbf6e234",
   "metadata": {},
   "outputs": [
    {
     "name": "stdout",
     "output_type": "stream",
     "text": [
      "root\n",
      " |-- education: integer (nullable = false)\n",
      " |-- native-country-processed: integer (nullable = false)\n",
      " |-- race-processed: integer (nullable = false)\n",
      " |-- workclass-processed: integer (nullable = false)\n",
      " |-- age-processed: integer (nullable = false)\n",
      " |-- hours-per-week-processed: integer (nullable = false)\n",
      " |-- maritalStatusIndex: double (nullable = false)\n",
      " |-- occupationIndex: double (nullable = false)\n",
      " |-- relationshipIndex: double (nullable = false)\n",
      " |-- sexIndex: double (nullable = false)\n",
      " |-- incomeIndex: double (nullable = false)\n",
      "\n"
     ]
    }
   ],
   "source": [
    "df = df.drop('age', 'workclass', 'education-num', 'marital-status', 'occupation', 'relationship', 'race', 'sex',\n",
    "            'hours-per-week', 'native-country', 'income')\n",
    "df.printSchema()"
   ]
  },
  {
   "cell_type": "code",
   "execution_count": 25,
   "id": "e2eefd07",
   "metadata": {},
   "outputs": [
    {
     "name": "stdout",
     "output_type": "stream",
     "text": [
      "+--------------------+-----------+\n",
      "|            features|incomeIndex|\n",
      "+--------------------+-----------+\n",
      "|[1.0,3.0,1.0,3.0,...|        0.0|\n",
      "|[1.0,3.0,0.0,2.0,...|        0.0|\n",
      "|[1.0,1.0,2.0,8.0,...|        0.0|\n",
      "|[1.0,1.0,0.0,8.0,...|        0.0|\n",
      "|[2.0,3.0,0.0,1.0,...|        0.0|\n",
      "|[1.0,4.0,0.0,2.0,...|        0.0|\n",
      "|[2.0,1.0,5.0,5.0,...|        0.0|\n",
      "|[1.0,1.0,0.0,2.0,...|        1.0|\n",
      "|[1.0,4.0,1.0,1.0,...|        1.0|\n",
      "|[1.0,3.0,0.0,2.0,...|        1.0|\n",
      "|[1.0,2.0,0.0,2.0,...|        1.0|\n",
      "|[2.0,3.0,0.0,1.0,...|        1.0|\n",
      "|[1.0,3.0,1.0,3.0,...|        0.0|\n",
      "|[1.0,2.0,1.0,4.0,...|        0.0|\n",
      "|[2.0,1.0,0.0,7.0,...|        0.0|\n",
      "|[1.0,1.0,1.0,9.0,...|        0.0|\n",
      "|[1.0,1.0,1.0,6.0,...|        0.0|\n",
      "|[1.0,1.0,0.0,4.0,...|        0.0|\n",
      "|[1.0,4.0,2.0,2.0,...|        1.0|\n",
      "|[1.0,4.0,0.0,1.0,...|        1.0|\n",
      "+--------------------+-----------+\n",
      "only showing top 20 rows\n",
      "\n"
     ]
    }
   ],
   "source": [
    "featureColumns = ['native-country-processed','education', 'maritalStatusIndex', 'occupationIndex', 'relationshipIndex', 'sexIndex', 'race-processed', 'workclass-processed','age-processed','hours-per-week-processed']\n",
    "assembler = VectorAssembler(inputCols=featureColumns,outputCol='features')\n",
    "df = assembler.transform(df)\n",
    "df.select('features', 'incomeIndex').show()"
   ]
  },
  {
   "cell_type": "code",
   "execution_count": 26,
   "id": "56b568d5",
   "metadata": {},
   "outputs": [
    {
     "name": "stderr",
     "output_type": "stream",
     "text": [
      "                                                                                \r"
     ]
    },
    {
     "data": {
      "text/plain": [
       "array(['education', 'maritalStatusIndex', 'occupationIndex',\n",
       "       'relationshipIndex', 'sexIndex', 'race-processed',\n",
       "       'workclass-processed', 'age-processed', 'hours-per-week-processed'],\n",
       "      dtype='<U24')"
      ]
     },
     "execution_count": 26,
     "metadata": {},
     "output_type": "execute_result"
    }
   ],
   "source": [
    "from pyspark.ml.feature import ChiSqSelector\n",
    "selector = ChiSqSelector(numTopFeatures=9, featuresCol=\"features\",\n",
    "                         outputCol=\"selectedFeatures\", labelCol=\"incomeIndex\")\n",
    "\n",
    "model = selector.fit(df)\n",
    "\n",
    "#numTopFeatures = n-1, so unselected column is the least important one\n",
    "np.array(featureColumns)[model.selectedFeatures]"
   ]
  },
  {
   "cell_type": "code",
   "execution_count": 27,
   "id": "cd7458c2",
   "metadata": {},
   "outputs": [],
   "source": [
    "#drop the features column because I will re-create it without native country\n",
    "df = df.drop('features')\n",
    "featureColumns = ['education', 'maritalStatusIndex', 'occupationIndex', 'relationshipIndex', 'sexIndex', 'race-processed', 'workclass-processed','age-processed','hours-per-week-processed']\n",
    "assembler = VectorAssembler(inputCols=featureColumns,outputCol='features')\n",
    "df = assembler.transform(df)\n",
    "df = df.drop('native-country-processed')"
   ]
  },
  {
   "cell_type": "code",
   "execution_count": 28,
   "id": "ce7ab031",
   "metadata": {},
   "outputs": [
    {
     "name": "stderr",
     "output_type": "stream",
     "text": [
      "22/10/09 08:59:57 WARN InstanceBuilder$NativeBLAS: Failed to load implementation from:dev.ludovic.netlib.blas.JNIBLAS\n",
      "22/10/09 08:59:57 WARN InstanceBuilder$NativeBLAS: Failed to load implementation from:dev.ludovic.netlib.blas.ForeignLinkerBLAS\n",
      "/home/ubuntu/spark-3.2.1-bin-hadoop2.7/python/pyspark/sql/context.py:125: FutureWarning: Deprecated in 3.0.0. Use SparkSession.builder.getOrCreate() instead.\n",
      "  warnings.warn(\n"
     ]
    },
    {
     "data": {
      "text/plain": [
       "array([ 1.        , -0.09686754, -0.25461382, -0.10905198, -0.0131121 ,\n",
       "       -0.04655673,  0.1392943 ,  0.05542594,  0.16569144, -0.09686754,\n",
       "        1.        ,  0.05193543,  0.42184271,  0.41071485,  0.09970559,\n",
       "       -0.08495405,  0.04756525, -0.14218319, -0.25461382,  0.05193543,\n",
       "        1.        ,  0.06434085, -0.00176278,  0.05866081, -0.05289131,\n",
       "       -0.04113838, -0.0753535 , -0.10905198,  0.42184271,  0.06434085,\n",
       "        1.        ,  0.55605286,  0.14746137, -0.11952762, -0.16781898,\n",
       "       -0.22464532, -0.0131121 ,  0.41071485, -0.00176278,  0.55605286,\n",
       "        1.        ,  0.10330815, -0.10607579, -0.04846522, -0.21729992,\n",
       "       -0.04655673,  0.09970559,  0.05866081,  0.14746137,  0.10330815,\n",
       "        1.        , -0.03858471, -0.02795702, -0.08994482,  0.1392943 ,\n",
       "       -0.08495405, -0.05289131, -0.11952762, -0.10607579, -0.03858471,\n",
       "        1.        ,  0.19888972,  0.11471942,  0.05542594,  0.04756525,\n",
       "       -0.04113838, -0.16781898, -0.04846522, -0.02795702,  0.19888972,\n",
       "        1.        ,  0.01285435,  0.16569144, -0.14218319, -0.0753535 ,\n",
       "       -0.22464532, -0.21729992, -0.08994482,  0.11471942,  0.01285435,\n",
       "        1.        ])"
      ]
     },
     "execution_count": 28,
     "metadata": {},
     "output_type": "execute_result"
    }
   ],
   "source": [
    "from pyspark.ml.stat import Correlation\n",
    "corrTest = df.select('features');\n",
    "\n",
    "matrix = Correlation.corr(corrTest, 'features')\n",
    "matrix.collect()[0][\"pearson({})\".format('features')].values"
   ]
  },
  {
   "cell_type": "code",
   "execution_count": 31,
   "id": "d6a2c8c9",
   "metadata": {},
   "outputs": [
    {
     "name": "stdout",
     "output_type": "stream",
     "text": [
      "root\n",
      " |-- education: integer (nullable = false)\n",
      " |-- race-processed: integer (nullable = false)\n",
      " |-- workclass-processed: integer (nullable = false)\n",
      " |-- age-processed: integer (nullable = false)\n",
      " |-- hours-per-week-processed: integer (nullable = false)\n",
      " |-- maritalStatusIndex: double (nullable = false)\n",
      " |-- occupationIndex: double (nullable = false)\n",
      " |-- relationshipIndex: double (nullable = false)\n",
      " |-- sexIndex: double (nullable = false)\n",
      " |-- incomeIndex: double (nullable = false)\n",
      " |-- features: vector (nullable = true)\n",
      "\n"
     ]
    }
   ],
   "source": [
    "train_set, test_set = df.randomSplit([0.7,.3])\n",
    "print(train_set)"
   ]
  },
  {
   "cell_type": "code",
   "execution_count": 47,
   "id": "69153f7f",
   "metadata": {},
   "outputs": [
    {
     "name": "stdout",
     "output_type": "stream",
     "text": [
      "Accuracy: 0.8428387179681875\n",
      "AUC: 0.7657430966538744\n"
     ]
    },
    {
     "name": "stderr",
     "output_type": "stream",
     "text": [
      "\r",
      "[Stage 53560:===========================>                           (1 + 1) / 2]\r",
      "\r",
      "                                                                                \r"
     ]
    }
   ],
   "source": [
    "from pyspark.ml.classification import LogisticRegression\n",
    "from pyspark.ml.tuning import ParamGridBuilder, CrossValidator\n",
    "from pyspark.ml.evaluation import BinaryClassificationEvaluator\n",
    "from pyspark.mllib.evaluation import BinaryClassificationMetrics\n",
    "\n",
    "logistic_reg = LogisticRegression(featuresCol='features',labelCol='incomeIndex')\n",
    "\n",
    "logistic_paramGrid = (ParamGridBuilder()\n",
    "             .addGrid(logistic_reg.regParam, [0.01, 0.1, 0.5, 1.0, 2.0])\n",
    "             .addGrid(logistic_reg.elasticNetParam, [0.0, 0.25, 0.5, 0.75, 1.0])\n",
    "             .addGrid(logistic_reg.maxIter, [1, 5, 10, 20, 50])\n",
    "             .build())\n",
    "\n",
    "logistic_evaluator = BinaryClassificationEvaluator(labelCol='incomeIndex')\n",
    "\n",
    "logistic_CrossValidator = CrossValidator(estimator = logistic_reg,\n",
    "                    estimatorParamMaps = logistic_paramGrid,\n",
    "                    evaluator = logistic_evaluator,\n",
    "                    numFolds = 5)\n",
    "\n",
    "logistic_Model = logistic_CrossValidator.fit(train_set)\n",
    "\n",
    "logistic_predictions = logistic_Model.transform(test_set)\n",
    "\n",
    "print('Accuracy:', logistic_evaluator.evaluate(logistic_predictions))\n",
    "print('AUC:', BinaryClassificationMetrics(logistic_predictions['incomeIndex','prediction'].rdd).areaUnderROC)"
   ]
  },
  {
   "cell_type": "code",
   "execution_count": 36,
   "id": "c9b0d006",
   "metadata": {},
   "outputs": [
    {
     "name": "stderr",
     "output_type": "stream",
     "text": [
      "                                                                                \r"
     ]
    },
    {
     "name": "stdout",
     "output_type": "stream",
     "text": [
      "Accuracy: 0.8687885155697823\n"
     ]
    },
    {
     "name": "stderr",
     "output_type": "stream",
     "text": [
      "\r",
      "[Stage 30793:>                                                      (0 + 2) / 2]\r",
      "\r",
      "[Stage 30793:===========================>                           (1 + 1) / 2]\r"
     ]
    },
    {
     "name": "stdout",
     "output_type": "stream",
     "text": [
      "AUC: 0.7825563034461543\n"
     ]
    },
    {
     "name": "stderr",
     "output_type": "stream",
     "text": [
      "\r",
      "                                                                                \r"
     ]
    }
   ],
   "source": [
    "from pyspark.ml.classification import RandomForestClassifier\n",
    "\n",
    "rf = RandomForestClassifier(labelCol=\"incomeIndex\", featuresCol=\"features\")\n",
    "\n",
    "rf_paramGrid = (ParamGridBuilder()\n",
    "             .addGrid(rf.numTrees, [10, 20, 30])\n",
    "             .addGrid(rf.featureSubsetStrategy, [ \"auto\", \"all\", \"sqrt\", \"log2\", \"onethird\"])\n",
    "             .addGrid(rf.maxDepth, [3, 4, 5])\n",
    "             .build())\n",
    "\n",
    "rf_evaluator = BinaryClassificationEvaluator(labelCol='incomeIndex')\n",
    "\n",
    "rf_CrossValidator = CrossValidator(estimator = rf,\n",
    "                    estimatorParamMaps = rf_paramGrid,\n",
    "                    evaluator = rf_evaluator,\n",
    "                    numFolds = 5)\n",
    "\n",
    "rf_Model = rf_CrossValidator.fit(train_set)\n",
    "\n",
    "rf_predictions = rf_Model.transform(test_set)\n",
    "\n",
    "print('Accuracy:', rf_evaluator.evaluate(rf_predictions))\n",
    "print('AUC:', BinaryClassificationMetrics(rf_predictions['incomeIndex','prediction'].rdd).areaUnderROC)"
   ]
  },
  {
   "cell_type": "code",
   "execution_count": 39,
   "id": "fede2faa",
   "metadata": {},
   "outputs": [
    {
     "data": {
      "text/plain": [
       "DenseVector([0.6625, -0.8418, -0.0456, -0.0371, -0.2724, -0.0562, 0.0, 0.5891, 0.6593])"
      ]
     },
     "execution_count": 39,
     "metadata": {},
     "output_type": "execute_result"
    }
   ],
   "source": [
    "best_lrmodel = logistic_Model.bestModel\n",
    "best_lrmodel.coefficients\n",
    "#'education', 'maritalStatusIndex', 'occupationIndex', 'relationshipIndex', 'sexIndex', 'race-processed', 'workclass-processed','age-processed','hours-per-week-processed'"
   ]
  },
  {
   "cell_type": "code",
   "execution_count": 86,
   "id": "631c2a74",
   "metadata": {},
   "outputs": [
    {
     "data": {
      "text/plain": [
       "SparseVector(9, {0: 0.2656, 1: 0.3932, 2: 0.0885, 3: 0.1972, 4: 0.0132, 5: 0.0002, 6: 0.0009, 7: 0.0249, 8: 0.0163})"
      ]
     },
     "execution_count": 86,
     "metadata": {},
     "output_type": "execute_result"
    }
   ],
   "source": [
    "best_rfmodel = rf_Model.bestModel\n",
    "best_rfmodel.featureImportances"
   ]
  },
  {
   "cell_type": "code",
   "execution_count": 58,
   "id": "9ac6fb5e",
   "metadata": {},
   "outputs": [
    {
     "name": "stdout",
     "output_type": "stream",
     "text": [
      "[[9568.  562.]\n",
      " [2028. 1352.]]\n"
     ]
    }
   ],
   "source": [
    "from pyspark.mllib.evaluation import MulticlassMetrics\n",
    "from pyspark.sql.types import FloatType\n",
    "\n",
    "rf_datacast = rf_predictions.select(['prediction','incomeIndex']).withColumn('incomeIndex', col('incomeIndex').cast(FloatType())).orderBy('prediction')\n",
    "\n",
    "rf_datacast = lr_datacast.select(['prediction','incomeIndex'])\n",
    "\n",
    "rf_metrics = MulticlassMetrics(rf_datacast.rdd.map(tuple))\n",
    "\n",
    "print(rf_metrics.confusionMatrix().toArray())"
   ]
  },
  {
   "cell_type": "code",
   "execution_count": 71,
   "id": "6ca868dc",
   "metadata": {},
   "outputs": [
    {
     "name": "stdout",
     "output_type": "stream",
     "text": [
      "RegParam: 0.01\n",
      "ElasticNetParam: 0.75\n",
      "MaxIter: 10\n"
     ]
    }
   ],
   "source": [
    "print(\"RegParam: \" + str(best_lrmodel.getRegParam()))\n",
    "print(\"ElasticNetParam: \" + str(best_lrmodel.getElasticNetParam()))\n",
    "print(\"MaxIter: \" + str(best_lrmodel.getMaxIter()))"
   ]
  },
  {
   "cell_type": "code",
   "execution_count": 80,
   "id": "136c48bd",
   "metadata": {},
   "outputs": [
    {
     "name": "stdout",
     "output_type": "stream",
     "text": [
      "+----------------------------------------+-----------------------------------------+----------+\n",
      "|rawPrediction                           |probability                              |prediction|\n",
      "+----------------------------------------+-----------------------------------------+----------+\n",
      "|[2.852506768220406,-2.852506768220406]  |[0.9454481162631222,0.054551883736877804]|0.0       |\n",
      "|[3.1196182481125683,-3.1196182481125683]|[0.9576947639903971,0.0423052360096029]  |0.0       |\n",
      "|[3.1196182481125683,-3.1196182481125683]|[0.9576947639903971,0.0423052360096029]  |0.0       |\n",
      "|[3.1196182481125683,-3.1196182481125683]|[0.9576947639903971,0.0423052360096029]  |0.0       |\n",
      "|[3.1196182481125683,-3.1196182481125683]|[0.9576947639903971,0.0423052360096029]  |0.0       |\n",
      "+----------------------------------------+-----------------------------------------+----------+\n",
      "only showing top 5 rows\n",
      "\n"
     ]
    }
   ],
   "source": [
    "logistic_predictions.select('rawPrediction', 'probability', 'prediction').show(5,truncate=False)"
   ]
  },
  {
   "cell_type": "code",
   "execution_count": 90,
   "id": "6bc72a15",
   "metadata": {},
   "outputs": [
    {
     "name": "stdout",
     "output_type": "stream",
     "text": [
      "NumTrees: 30\n",
      "FeatureSubsetStrategy: log2\n",
      "MaxDepth: 5\n"
     ]
    }
   ],
   "source": [
    "print(\"NumTrees: \" + str(best_rfmodel.getOrDefault('numTrees')))\n",
    "print(\"FeatureSubsetStrategy: \" + str(best_rfmodel.getFeatureSubsetStrategy()))\n",
    "print(\"MaxDepth: \" + str(best_rfmodel.getMaxDepth()))"
   ]
  },
  {
   "cell_type": "code",
   "execution_count": 91,
   "id": "b1efc46d",
   "metadata": {},
   "outputs": [
    {
     "name": "stdout",
     "output_type": "stream",
     "text": [
      "+---------------------------------------+-----------------------------------------+----------+\n",
      "|rawPrediction                          |probability                              |prediction|\n",
      "+---------------------------------------+-----------------------------------------+----------+\n",
      "|[23.021969014587256,6.978030985412741] |[0.7673989671529087,0.2326010328470914]  |0.0       |\n",
      "|[28.825964144738425,1.1740358552615793]|[0.9608654714912808,0.039134528508719305]|0.0       |\n",
      "|[28.825964144738425,1.1740358552615793]|[0.9608654714912808,0.039134528508719305]|0.0       |\n",
      "|[28.825964144738425,1.1740358552615793]|[0.9608654714912808,0.039134528508719305]|0.0       |\n",
      "|[28.825964144738425,1.1740358552615793]|[0.9608654714912808,0.039134528508719305]|0.0       |\n",
      "+---------------------------------------+-----------------------------------------+----------+\n",
      "only showing top 5 rows\n",
      "\n"
     ]
    },
    {
     "name": "stderr",
     "output_type": "stream",
     "text": [
      "\r",
      "[Stage 53619:>                                                      (0 + 1) / 1]\r",
      "\r",
      "                                                                                \r"
     ]
    }
   ],
   "source": [
    "rf_predictions.select('rawPrediction', 'probability', 'prediction').show(5,truncate=False)"
   ]
  },
  {
   "cell_type": "code",
   "execution_count": 92,
   "id": "f14da4e5",
   "metadata": {},
   "outputs": [
    {
     "name": "stderr",
     "output_type": "stream",
     "text": [
      "                                                                                \r"
     ]
    },
    {
     "name": "stdout",
     "output_type": "stream",
     "text": [
      "Accuracy: 0.8350546595722678\n"
     ]
    },
    {
     "name": "stderr",
     "output_type": "stream",
     "text": [
      "\r",
      "[Stage 64997:===========================>                           (1 + 1) / 2]\r",
      "\r",
      "                                                                                \r"
     ]
    },
    {
     "name": "stdout",
     "output_type": "stream",
     "text": [
      "AUC: 0.7571480003769026\n"
     ]
    }
   ],
   "source": [
    "train_set1, test_set1 = df.randomSplit([0.8,.2])\n",
    "\n",
    "logistic_Model = logistic_CrossValidator.fit(train_set1)\n",
    "\n",
    "logistic_predictions = logistic_Model.transform(test_set1)\n",
    "\n",
    "print('Accuracy:', logistic_evaluator.evaluate(logistic_predictions))\n",
    "print('AUC:', BinaryClassificationMetrics(logistic_predictions['incomeIndex','prediction'].rdd).areaUnderROC)"
   ]
  },
  {
   "cell_type": "code",
   "execution_count": 93,
   "id": "a3aefa62",
   "metadata": {},
   "outputs": [
    {
     "name": "stderr",
     "output_type": "stream",
     "text": [
      "                                                                                \r"
     ]
    },
    {
     "name": "stdout",
     "output_type": "stream",
     "text": [
      "Accuracy: 0.8659977266005154\n",
      "AUC: 0.7809009952854897\n"
     ]
    }
   ],
   "source": [
    "rf_Model = rf_CrossValidator.fit(train_set1)\n",
    "\n",
    "rf_predictions = rf_Model.transform(test_set1)\n",
    "\n",
    "print('Accuracy:', rf_evaluator.evaluate(rf_predictions))\n",
    "print('AUC:', BinaryClassificationMetrics(rf_predictions['incomeIndex','prediction'].rdd).areaUnderROC)"
   ]
  },
  {
   "cell_type": "code",
   "execution_count": 96,
   "id": "f1f97f57",
   "metadata": {},
   "outputs": [
    {
     "name": "stdout",
     "output_type": "stream",
     "text": [
      "Accuracy: 0.8688258263871448\n",
      "AUC: 0.7833562721166157\n"
     ]
    },
    {
     "name": "stderr",
     "output_type": "stream",
     "text": [
      "\r",
      "[Stage 75421:===========================>                           (1 + 1) / 2]\r",
      "\r",
      "                                                                                \r"
     ]
    }
   ],
   "source": [
    "rf = RandomForestClassifier(labelCol=\"incomeIndex\", featuresCol=\"features\", bootstrap=False)\n",
    "\n",
    "rf_paramGrid = (ParamGridBuilder()\n",
    "             .addGrid(rf.numTrees, [10, 20, 30])\n",
    "             .addGrid(rf.featureSubsetStrategy, [ \"auto\", \"all\", \"sqrt\", \"log2\", \"onethird\"])\n",
    "             .addGrid(rf.maxDepth, [3, 4, 5])\n",
    "             .build())\n",
    "\n",
    "rf_evaluator = BinaryClassificationEvaluator(labelCol='incomeIndex')\n",
    "\n",
    "rf_CrossValidator = CrossValidator(estimator = rf,\n",
    "                    estimatorParamMaps = rf_paramGrid,\n",
    "                    evaluator = rf_evaluator,\n",
    "                    numFolds = 5)\n",
    "\n",
    "rf_Model = rf_CrossValidator.fit(train_set)\n",
    "\n",
    "rf_predictions = rf_Model.transform(test_set)\n",
    "\n",
    "print('Accuracy:', rf_evaluator.evaluate(rf_predictions))\n",
    "print('AUC:', BinaryClassificationMetrics(rf_predictions['incomeIndex','prediction'].rdd).areaUnderROC)"
   ]
  },
  {
   "cell_type": "code",
   "execution_count": null,
   "id": "ffbf84d0",
   "metadata": {},
   "outputs": [],
   "source": []
  }
 ],
 "metadata": {
  "kernelspec": {
   "display_name": "Python 3 (ipykernel)",
   "language": "python",
   "name": "python3"
  },
  "language_info": {
   "codemirror_mode": {
    "name": "ipython",
    "version": 3
   },
   "file_extension": ".py",
   "mimetype": "text/x-python",
   "name": "python",
   "nbconvert_exporter": "python",
   "pygments_lexer": "ipython3",
   "version": "3.10.4"
  }
 },
 "nbformat": 4,
 "nbformat_minor": 5
}
