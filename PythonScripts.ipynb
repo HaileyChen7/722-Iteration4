{
 "cells": [
  {
   "cell_type": "code",
   "execution_count": 1,
   "id": "6383ce9c",
   "metadata": {},
   "outputs": [
    {
     "name": "stderr",
     "output_type": "stream",
     "text": [
      "WARNING: An illegal reflective access operation has occurred\n",
      "WARNING: Illegal reflective access by org.apache.spark.unsafe.Platform (file:/home/ubuntu/spark-3.2.1-bin-hadoop2.7/jars/spark-unsafe_2.12-3.2.1.jar) to constructor java.nio.DirectByteBuffer(long,int)\n",
      "WARNING: Please consider reporting this to the maintainers of org.apache.spark.unsafe.Platform\n",
      "WARNING: Use --illegal-access=warn to enable warnings of further illegal reflective access operations\n",
      "WARNING: All illegal access operations will be denied in a future release\n",
      "Using Spark's default log4j profile: org/apache/spark/log4j-defaults.properties\n",
      "Setting default log level to \"WARN\".\n",
      "To adjust logging level use sc.setLogLevel(newLevel). For SparkR, use setLogLevel(newLevel).\n",
      "22/10/06 13:46:57 WARN NativeCodeLoader: Unable to load native-hadoop library for your platform... using builtin-java classes where applicable\n"
     ]
    }
   ],
   "source": [
    "import findspark\n",
    "findspark.init('/home/ubuntu/spark-3.2.1-bin-hadoop2.7')\n",
    "import pyspark\n",
    "from pyspark.sql import SparkSession\n",
    "spark = SparkSession.builder.appName('SalaryPrediction').getOrCreate()"
   ]
  },
  {
   "cell_type": "code",
   "execution_count": 2,
   "id": "6e7a359d",
   "metadata": {},
   "outputs": [
    {
     "name": "stderr",
     "output_type": "stream",
     "text": [
      "\r",
      "[Stage 0:>                                                          (0 + 1) / 1]\r",
      "\r",
      "                                                                                \r"
     ]
    }
   ],
   "source": [
    "df = spark.read.csv('Datasets/salary1.csv', inferSchema=True, header=True)"
   ]
  },
  {
   "cell_type": "code",
   "execution_count": 3,
   "id": "00925548",
   "metadata": {},
   "outputs": [
    {
     "name": "stdout",
     "output_type": "stream",
     "text": [
      "root\n",
      " |-- age: integer (nullable = true)\n",
      " |-- workclass: string (nullable = true)\n",
      " |-- fnlwgt: integer (nullable = true)\n",
      " |-- education: string (nullable = true)\n",
      " |-- education-num: integer (nullable = true)\n",
      " |-- marital-status: string (nullable = true)\n",
      " |-- occupation: string (nullable = true)\n",
      " |-- relationship: string (nullable = true)\n",
      " |-- race: string (nullable = true)\n",
      " |-- sex: string (nullable = true)\n",
      " |-- capital-gain: integer (nullable = true)\n",
      " |-- capital-loss: integer (nullable = true)\n",
      " |-- hours-per-week: integer (nullable = true)\n",
      " |-- native-country: string (nullable = true)\n",
      " |-- income: string (nullable = true)\n",
      "\n"
     ]
    },
    {
     "data": {
      "text/plain": [
       "32561"
      ]
     },
     "execution_count": 3,
     "metadata": {},
     "output_type": "execute_result"
    }
   ],
   "source": [
    "df.printSchema()\n",
    "df.count()"
   ]
  },
  {
   "cell_type": "code",
   "execution_count": 4,
   "id": "b293491e",
   "metadata": {},
   "outputs": [
    {
     "data": {
      "image/png": "[encoded data removed]",
      "text/plain": [
       "<Figure size 432x288 with 1 Axes>"
      ]
     },
     "metadata": {
      "needs_background": "light"
     },
     "output_type": "display_data"
    },
    {
     "name": "stdout",
     "output_type": "stream",
     "text": [
      "<=50K: 24720\n",
      ">50K: 7841\n"
     ]
    }
   ],
   "source": [
    "import numpy as np\n",
    "import matplotlib.pyplot as plt\n",
    "%matplotlib inline\n",
    "incomeArr = np.array(df.select('income').collect())\n",
    "plt.hist(incomeArr)\n",
    "plt.show()\n",
    "print(\"<=50K: \"+str(df.filter(df['income'] == '<=50K').count()))\n",
    "print(\">50K: \"+str(df.filter(df['income'] == '>50K').count()))"
   ]
  },
  {
   "cell_type": "code",
   "execution_count": 5,
   "id": "eda53294",
   "metadata": {},
   "outputs": [
    {
     "name": "stdout",
     "output_type": "stream",
     "text": [
      "+---+\n",
      "|age|\n",
      "+---+\n",
      "| 90|\n",
      "+---+\n",
      "only showing top 1 row\n",
      "\n",
      "+---+\n",
      "|age|\n",
      "+---+\n",
      "| 17|\n",
      "+---+\n",
      "only showing top 1 row\n",
      "\n",
      "+------+---------+-----+\n",
      "|income|age_range|count|\n",
      "+------+---------+-----+\n",
      "| <=50K|     0-20| 2408|\n",
      "|  >50K|     0-20|    2|\n",
      "| <=50K|    21-40|13622|\n",
      "|  >50K|    21-40| 3086|\n",
      "| <=50K|    41-60| 6909|\n",
      "|  >50K|    41-60| 4202|\n",
      "| <=50K|    61-80| 1696|\n",
      "|  >50K|    61-80|  537|\n",
      "| <=50K|      80+|   85|\n",
      "|  >50K|      80+|   14|\n",
      "+------+---------+-----+\n",
      "\n"
     ]
    }
   ],
   "source": [
    "from pyspark.sql.functions import col,isnan, when, count\n",
    "df.select('age').orderBy('age', ascending=False).show(1)\n",
    "df.select('age').orderBy('age').show(1)\n",
    "ageWithIncome = df.select(\"*\",when(df['age'] <=20, '0-20')\n",
    "          .when((df['age'] >20) & (df['age'] <= 40), '21-40')\n",
    "          .when((df['age'] >40) & (df['age'] <= 60), '41-60')\n",
    "          .when((df['age'] >60) & (df['age'] <= 80), '61-80')\n",
    "          .otherwise('80+').alias('age_range')).groupBy(\"income\",\"age_range\").count().orderBy('age_range','income').show()\n"
   ]
  },
  {
   "cell_type": "code",
   "execution_count": 6,
   "id": "67225b60",
   "metadata": {},
   "outputs": [
    {
     "name": "stdout",
     "output_type": "stream",
     "text": [
      "+------+-------------+-----+\n",
      "|income|education-num|count|\n",
      "+------+-------------+-----+\n",
      "|  >50K|           16|  306|\n",
      "| <=50K|           16|  107|\n",
      "|  >50K|           15|  423|\n",
      "| <=50K|           15|  153|\n",
      "|  >50K|           14|  959|\n",
      "| <=50K|           14|  764|\n",
      "|  >50K|           13| 2221|\n",
      "| <=50K|           13| 3134|\n",
      "|  >50K|           12|  265|\n",
      "| <=50K|           12|  802|\n",
      "|  >50K|           11|  361|\n",
      "| <=50K|           11| 1021|\n",
      "|  >50K|           10| 1387|\n",
      "| <=50K|           10| 5904|\n",
      "|  >50K|            9| 1675|\n",
      "| <=50K|            9| 8826|\n",
      "|  >50K|            8|   33|\n",
      "| <=50K|            8|  400|\n",
      "|  >50K|            7|   60|\n",
      "| <=50K|            7| 1115|\n",
      "|  >50K|            6|   62|\n",
      "| <=50K|            6|  871|\n",
      "|  >50K|            5|   27|\n",
      "| <=50K|            5|  487|\n",
      "|  >50K|            4|   40|\n",
      "| <=50K|            4|  606|\n",
      "|  >50K|            3|   16|\n",
      "| <=50K|            3|  317|\n",
      "|  >50K|            2|    6|\n",
      "| <=50K|            2|  162|\n",
      "| <=50K|            1|   51|\n",
      "+------+-------------+-----+\n",
      "\n"
     ]
    }
   ],
   "source": [
    "df.groupBy(\"income\",\"education-num\").count().orderBy('education-num','income', ascending=False).show(40)\n"
   ]
  },
  {
   "cell_type": "code",
   "execution_count": 7,
   "id": "ddec7e65",
   "metadata": {},
   "outputs": [
    {
     "name": "stdout",
     "output_type": "stream",
     "text": [
      "+--------------+\n",
      "|hours-per-week|\n",
      "+--------------+\n",
      "|            99|\n",
      "+--------------+\n",
      "only showing top 1 row\n",
      "\n",
      "+--------------+\n",
      "|hours-per-week|\n",
      "+--------------+\n",
      "|             1|\n",
      "+--------------+\n",
      "only showing top 1 row\n",
      "\n",
      "+------+-----------+-----+\n",
      "|income|hours_range|count|\n",
      "+------+-----------+-----+\n",
      "| <=50K|       0-20| 2733|\n",
      "|  >50K|       0-20|  195|\n",
      "| <=50K|      21-40|16262|\n",
      "|  >50K|      21-40| 3790|\n",
      "| <=50K|      41-60| 5019|\n",
      "|  >50K|      41-60| 3452|\n",
      "| <=50K|      61-80|  561|\n",
      "|  >50K|      61-80|  341|\n",
      "| <=50K|        80+|  145|\n",
      "|  >50K|        80+|   63|\n",
      "+------+-----------+-----+\n",
      "\n"
     ]
    }
   ],
   "source": [
    "df.select('hours-per-week').orderBy('hours-per-week', ascending=False).show(1)\n",
    "df.select('hours-per-week').orderBy('hours-per-week').show(1)\n",
    "hoursWithIncome = df.select(\"*\",when(df['hours-per-week'] <=20, '0-20')\n",
    "          .when((df['hours-per-week'] >20) & (df['hours-per-week'] <= 40), '21-40')\n",
    "          .when((df['hours-per-week'] >40) & (df['hours-per-week'] <= 60), '41-60')\n",
    "          .when((df['hours-per-week'] >60) & (df['hours-per-week'] <= 80), '61-80')\n",
    "          .otherwise('80+').alias('hours_range')).groupBy(\"income\",\"hours_range\").count().orderBy('hours_range','income').show()\n"
   ]
  },
  {
   "cell_type": "code",
   "execution_count": 32,
   "id": "df9845f4",
   "metadata": {},
   "outputs": [
    {
     "data": {
      "text/plain": [
       "[Row(sum(age_out)=143, sum(fnlwgt_out)=992, sum(education-num_out)=1198, sum(capital-gain_out)=2712, sum(capital-loss_out)=1519, sum(hours-per-week_out)=9008)]"
      ]
     },
     "execution_count": 32,
     "metadata": {},
     "output_type": "execute_result"
    }
   ],
   "source": [
    "non_string_cols = [c for c, t in df.dtypes if t !='string']\n",
    "bounds = {\n",
    "    c: dict(\n",
    "        zip([\"q1\", \"q3\"], df.approxQuantile(c, [0.25, 0.75], 0))\n",
    "    )\n",
    "    # numeric columns\n",
    "    for c in non_string_cols\n",
    "}\n",
    "\n",
    "for c in bounds:\n",
    "    iqr = bounds[c]['q3'] - bounds[c]['q1']\n",
    "    bounds[c]['lower'] = bounds[c]['q1'] - (iqr * 1.5)\n",
    "    bounds[c]['upper'] = bounds[c]['q3'] + (iqr * 1.5)\n",
    "outliers=df.select(\n",
    "    \"*\",\n",
    "    *[\n",
    "        when(\n",
    "            col(c).between(bounds[c]['lower'], bounds[c]['upper']),\n",
    "            0\n",
    "        ).otherwise(1).alias(c+\"_out\") \n",
    "        for c in non_string_cols\n",
    "    ]\n",
    ").select('age_out','fnlwgt_out','education-num_out','capital-gain_out','capital-loss_out','hours-per-week_out')\n",
    "outliers.groupBy().sum().collect()"
   ]
  },
  {
   "cell_type": "code",
   "execution_count": null,
   "id": "406e7d45",
   "metadata": {},
   "outputs": [],
   "source": []
  }
 ],
 "metadata": {
  "kernelspec": {
   "display_name": "Python 3 (ipykernel)",
   "language": "python",
   "name": "python3"
  },
  "language_info": {
   "codemirror_mode": {
    "name": "ipython",
    "version": 3
   },
   "file_extension": ".py",
   "mimetype": "text/x-python",
   "name": "python",
   "nbconvert_exporter": "python",
   "pygments_lexer": "ipython3",
   "version": "3.10.4"
  }
 },
 "nbformat": 4,
 "nbformat_minor": 5
}
